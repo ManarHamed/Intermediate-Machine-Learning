{
 "cells": [
  {
   "cell_type": "markdown",
   "id": "01ccb1bc",
   "metadata": {
    "papermill": {
     "duration": 0.011226,
     "end_time": "2022-07-09T14:10:28.982312",
     "exception": false,
     "start_time": "2022-07-09T14:10:28.971086",
     "status": "completed"
    },
    "tags": []
   },
   "source": [
    "**This notebook is an exercise in the [Intermediate Machine Learning](https://www.kaggle.com/learn/intermediate-machine-learning) course.  You can reference the tutorial at [this link](https://www.kaggle.com/alexisbcook/xgboost).**\n",
    "\n",
    "---\n"
   ]
  },
  {
   "cell_type": "markdown",
   "id": "b455809a",
   "metadata": {
    "papermill": {
     "duration": 0.005698,
     "end_time": "2022-07-09T14:10:28.995551",
     "exception": false,
     "start_time": "2022-07-09T14:10:28.989853",
     "status": "completed"
    },
    "tags": []
   },
   "source": [
    "In this exercise, you will use your new knowledge to train a model with **gradient boosting**.\n",
    "\n",
    "# Setup\n",
    "\n",
    "The questions below will give you feedback on your work. Run the following cell to set up the feedback system."
   ]
  },
  {
   "cell_type": "code",
   "execution_count": 1,
   "id": "33203b84",
   "metadata": {
    "execution": {
     "iopub.execute_input": "2022-07-09T14:10:29.013672Z",
     "iopub.status.busy": "2022-07-09T14:10:29.013163Z",
     "iopub.status.idle": "2022-07-09T14:10:31.323276Z",
     "shell.execute_reply": "2022-07-09T14:10:31.321640Z"
    },
    "papermill": {
     "duration": 2.324059,
     "end_time": "2022-07-09T14:10:31.326923",
     "exception": false,
     "start_time": "2022-07-09T14:10:29.002864",
     "status": "completed"
    },
    "tags": []
   },
   "outputs": [
    {
     "name": "stdout",
     "output_type": "stream",
     "text": [
      "Setup Complete\n"
     ]
    }
   ],
   "source": [
    "# Set up code checking\n",
    "import os\n",
    "if not os.path.exists(\"../input/train.csv\"):\n",
    "    os.symlink(\"../input/home-data-for-ml-course/train.csv\", \"../input/train.csv\")  \n",
    "    os.symlink(\"../input/home-data-for-ml-course/test.csv\", \"../input/test.csv\") \n",
    "from learntools.core import binder\n",
    "binder.bind(globals())\n",
    "from learntools.ml_intermediate.ex6 import *\n",
    "print(\"Setup Complete\")"
   ]
  },
  {
   "cell_type": "markdown",
   "id": "d25c0b5f",
   "metadata": {
    "papermill": {
     "duration": 0.005991,
     "end_time": "2022-07-09T14:10:31.339565",
     "exception": false,
     "start_time": "2022-07-09T14:10:31.333574",
     "status": "completed"
    },
    "tags": []
   },
   "source": [
    "You will work with the [Housing Prices Competition for Kaggle Learn Users](https://www.kaggle.com/c/home-data-for-ml-course) dataset from the previous exercise. \n",
    "\n",
    "![Ames Housing dataset image](https://i.imgur.com/lTJVG4e.png)\n",
    "\n",
    "Run the next code cell without changes to load the training and validation sets in `X_train`, `X_valid`, `y_train`, and `y_valid`.  The test set is loaded in `X_test`."
   ]
  },
  {
   "cell_type": "code",
   "execution_count": 2,
   "id": "fb6e4d36",
   "metadata": {
    "execution": {
     "iopub.execute_input": "2022-07-09T14:10:31.353773Z",
     "iopub.status.busy": "2022-07-09T14:10:31.352911Z",
     "iopub.status.idle": "2022-07-09T14:10:31.548182Z",
     "shell.execute_reply": "2022-07-09T14:10:31.547213Z"
    },
    "papermill": {
     "duration": 0.20522,
     "end_time": "2022-07-09T14:10:31.550792",
     "exception": false,
     "start_time": "2022-07-09T14:10:31.345572",
     "status": "completed"
    },
    "tags": []
   },
   "outputs": [],
   "source": [
    "import pandas as pd\n",
    "from sklearn.model_selection import train_test_split\n",
    "\n",
    "# Read the data\n",
    "X = pd.read_csv('../input/train.csv', index_col='Id')\n",
    "X_test_full = pd.read_csv('../input/test.csv', index_col='Id')\n",
    "\n",
    "# Remove rows with missing target, separate target from predictors\n",
    "X.dropna(axis=0, subset=['SalePrice'], inplace=True)\n",
    "y = X.SalePrice              \n",
    "X.drop(['SalePrice'], axis=1, inplace=True)\n",
    "\n",
    "# Break off validation set from training data\n",
    "X_train_full, X_valid_full, y_train, y_valid = train_test_split(X, y, train_size=0.8, test_size=0.2,\n",
    "                                                                random_state=0)\n",
    "\n",
    "# \"Cardinality\" means the number of unique values in a column\n",
    "# Select categorical columns with relatively low cardinality (convenient but arbitrary)\n",
    "low_cardinality_cols = [cname for cname in X_train_full.columns if X_train_full[cname].nunique() < 10 and \n",
    "                        X_train_full[cname].dtype == \"object\"]\n",
    "\n",
    "# Select numeric columns\n",
    "numeric_cols = [cname for cname in X_train_full.columns if X_train_full[cname].dtype in ['int64', 'float64']]\n",
    "\n",
    "# Keep selected columns only\n",
    "my_cols = low_cardinality_cols + numeric_cols\n",
    "X_train = X_train_full[my_cols].copy()\n",
    "X_valid = X_valid_full[my_cols].copy()\n",
    "X_test = X_test_full[my_cols].copy()\n",
    "\n",
    "# One-hot encode the data (to shorten the code, we use pandas)\n",
    "X_train = pd.get_dummies(X_train)\n",
    "X_valid = pd.get_dummies(X_valid)\n",
    "X_test = pd.get_dummies(X_test)\n",
    "X_train, X_valid = X_train.align(X_valid, join='left', axis=1)\n",
    "X_train, X_test = X_train.align(X_test, join='left', axis=1)"
   ]
  },
  {
   "cell_type": "markdown",
   "id": "50e0a791",
   "metadata": {
    "papermill": {
     "duration": 0.005874,
     "end_time": "2022-07-09T14:10:31.562604",
     "exception": false,
     "start_time": "2022-07-09T14:10:31.556730",
     "status": "completed"
    },
    "tags": []
   },
   "source": [
    "# Step 1: Build model\n",
    "\n",
    "### Part A\n",
    "\n",
    "In this step, you'll build and train your first model with gradient boosting.\n",
    "\n",
    "- Begin by setting `my_model_1` to an XGBoost model.  Use the [XGBRegressor](https://xgboost.readthedocs.io/en/latest/python/python_api.html#xgboost.XGBRegressor) class, and set the random seed to 0 (`random_state=0`).  **Leave all other parameters as default.**\n",
    "- Then, fit the model to the training data in `X_train` and `y_train`."
   ]
  },
  {
   "cell_type": "code",
   "execution_count": 3,
   "id": "c7db5c18",
   "metadata": {
    "execution": {
     "iopub.execute_input": "2022-07-09T14:10:31.576267Z",
     "iopub.status.busy": "2022-07-09T14:10:31.575535Z",
     "iopub.status.idle": "2022-07-09T14:10:32.478782Z",
     "shell.execute_reply": "2022-07-09T14:10:32.477318Z"
    },
    "papermill": {
     "duration": 0.91266,
     "end_time": "2022-07-09T14:10:32.481135",
     "exception": false,
     "start_time": "2022-07-09T14:10:31.568475",
     "status": "completed"
    },
    "tags": []
   },
   "outputs": [
    {
     "data": {
      "application/javascript": [
       "parent.postMessage({\"jupyterEvent\": \"custom.exercise_interaction\", \"data\": {\"outcomeType\": 1, \"valueTowardsCompletion\": 0.5, \"interactionType\": 1, \"questionType\": 2, \"questionId\": \"1.1_Model1A\", \"learnToolsVersion\": \"0.3.4\", \"failureMessage\": \"\", \"exceptionClass\": \"\", \"trace\": \"\"}}, \"*\")"
      ],
      "text/plain": [
       "<IPython.core.display.Javascript object>"
      ]
     },
     "metadata": {},
     "output_type": "display_data"
    },
    {
     "data": {
      "text/markdown": [
       "<span style=\"color:#33cc33\">Correct</span>"
      ],
      "text/plain": [
       "Correct"
      ]
     },
     "metadata": {},
     "output_type": "display_data"
    }
   ],
   "source": [
    "from xgboost import XGBRegressor\n",
    "\n",
    "# Define the model\n",
    "my_model_1 = XGBRegressor(random_state=0) # Your code here\n",
    "\n",
    "# Fit the model\n",
    "my_model_1.fit(X_train, y_train) # Your code here\n",
    "\n",
    "# Check your answer\n",
    "step_1.a.check()"
   ]
  },
  {
   "cell_type": "code",
   "execution_count": 4,
   "id": "4c4524a7",
   "metadata": {
    "execution": {
     "iopub.execute_input": "2022-07-09T14:10:32.495241Z",
     "iopub.status.busy": "2022-07-09T14:10:32.494875Z",
     "iopub.status.idle": "2022-07-09T14:10:32.499055Z",
     "shell.execute_reply": "2022-07-09T14:10:32.498155Z"
    },
    "papermill": {
     "duration": 0.013991,
     "end_time": "2022-07-09T14:10:32.501525",
     "exception": false,
     "start_time": "2022-07-09T14:10:32.487534",
     "status": "completed"
    },
    "tags": []
   },
   "outputs": [],
   "source": [
    "# Lines below will give you a hint or solution code\n",
    "#step_1.a.hint()\n",
    "#step_1.a.solution()"
   ]
  },
  {
   "cell_type": "markdown",
   "id": "8b8df984",
   "metadata": {
    "papermill": {
     "duration": 0.005755,
     "end_time": "2022-07-09T14:10:32.513274",
     "exception": false,
     "start_time": "2022-07-09T14:10:32.507519",
     "status": "completed"
    },
    "tags": []
   },
   "source": [
    "### Part B\n",
    "\n",
    "Set `predictions_1` to the model's predictions for the validation data.  Recall that the validation features are stored in `X_valid`."
   ]
  },
  {
   "cell_type": "code",
   "execution_count": 5,
   "id": "71372971",
   "metadata": {
    "execution": {
     "iopub.execute_input": "2022-07-09T14:10:32.526795Z",
     "iopub.status.busy": "2022-07-09T14:10:32.526297Z",
     "iopub.status.idle": "2022-07-09T14:10:32.547838Z",
     "shell.execute_reply": "2022-07-09T14:10:32.546873Z"
    },
    "papermill": {
     "duration": 0.034041,
     "end_time": "2022-07-09T14:10:32.553344",
     "exception": false,
     "start_time": "2022-07-09T14:10:32.519303",
     "status": "completed"
    },
    "tags": []
   },
   "outputs": [
    {
     "data": {
      "application/javascript": [
       "parent.postMessage({\"jupyterEvent\": \"custom.exercise_interaction\", \"data\": {\"outcomeType\": 1, \"valueTowardsCompletion\": 0.5, \"interactionType\": 1, \"questionType\": 2, \"questionId\": \"1.2_Model1B\", \"learnToolsVersion\": \"0.3.4\", \"failureMessage\": \"\", \"exceptionClass\": \"\", \"trace\": \"\"}}, \"*\")"
      ],
      "text/plain": [
       "<IPython.core.display.Javascript object>"
      ]
     },
     "metadata": {},
     "output_type": "display_data"
    },
    {
     "data": {
      "text/markdown": [
       "<span style=\"color:#33cc33\">Correct</span>"
      ],
      "text/plain": [
       "Correct"
      ]
     },
     "metadata": {},
     "output_type": "display_data"
    }
   ],
   "source": [
    "from sklearn.metrics import mean_absolute_error\n",
    "\n",
    "# Get predictions\n",
    "predictions_1 = my_model_1.predict(X_valid) # Your code here\n",
    "\n",
    "# Check your answer\n",
    "step_1.b.check()"
   ]
  },
  {
   "cell_type": "code",
   "execution_count": 6,
   "id": "f0c158d8",
   "metadata": {
    "execution": {
     "iopub.execute_input": "2022-07-09T14:10:32.568967Z",
     "iopub.status.busy": "2022-07-09T14:10:32.568120Z",
     "iopub.status.idle": "2022-07-09T14:10:32.571807Z",
     "shell.execute_reply": "2022-07-09T14:10:32.571137Z"
    },
    "papermill": {
     "duration": 0.013238,
     "end_time": "2022-07-09T14:10:32.573774",
     "exception": false,
     "start_time": "2022-07-09T14:10:32.560536",
     "status": "completed"
    },
    "tags": []
   },
   "outputs": [],
   "source": [
    "# Lines below will give you a hint or solution code\n",
    "#step_1.b.hint()\n",
    "#step_1.b.solution()"
   ]
  },
  {
   "cell_type": "markdown",
   "id": "4a888993",
   "metadata": {
    "papermill": {
     "duration": 0.006391,
     "end_time": "2022-07-09T14:10:32.586704",
     "exception": false,
     "start_time": "2022-07-09T14:10:32.580313",
     "status": "completed"
    },
    "tags": []
   },
   "source": [
    "### Part C\n",
    "\n",
    "Finally, use the `mean_absolute_error()` function to calculate the mean absolute error (MAE) corresponding to the predictions for the validation set.  Recall that the labels for the validation data are stored in `y_valid`."
   ]
  },
  {
   "cell_type": "code",
   "execution_count": 7,
   "id": "c944121b",
   "metadata": {
    "execution": {
     "iopub.execute_input": "2022-07-09T14:10:32.601758Z",
     "iopub.status.busy": "2022-07-09T14:10:32.601337Z",
     "iopub.status.idle": "2022-07-09T14:10:32.611633Z",
     "shell.execute_reply": "2022-07-09T14:10:32.610314Z"
    },
    "papermill": {
     "duration": 0.020702,
     "end_time": "2022-07-09T14:10:32.613992",
     "exception": false,
     "start_time": "2022-07-09T14:10:32.593290",
     "status": "completed"
    },
    "tags": []
   },
   "outputs": [
    {
     "name": "stdout",
     "output_type": "stream",
     "text": [
      "Mean Absolute Error: 17662.736729452055\n"
     ]
    },
    {
     "data": {
      "application/javascript": [
       "parent.postMessage({\"jupyterEvent\": \"custom.exercise_interaction\", \"data\": {\"outcomeType\": 1, \"valueTowardsCompletion\": 0.5, \"interactionType\": 1, \"questionType\": 2, \"questionId\": \"1.3_Model1C\", \"learnToolsVersion\": \"0.3.4\", \"failureMessage\": \"\", \"exceptionClass\": \"\", \"trace\": \"\"}}, \"*\")"
      ],
      "text/plain": [
       "<IPython.core.display.Javascript object>"
      ]
     },
     "metadata": {},
     "output_type": "display_data"
    },
    {
     "data": {
      "text/markdown": [
       "<span style=\"color:#33cc33\">Correct</span>"
      ],
      "text/plain": [
       "Correct"
      ]
     },
     "metadata": {},
     "output_type": "display_data"
    }
   ],
   "source": [
    "# Calculate MAE\n",
    "mae_1 = mean_absolute_error(predictions_1, y_valid) # Your code here\n",
    "\n",
    "# Uncomment to print MAE\n",
    "print(\"Mean Absolute Error:\" , mae_1)\n",
    "\n",
    "# Check your answer\n",
    "step_1.c.check()"
   ]
  },
  {
   "cell_type": "code",
   "execution_count": 8,
   "id": "9657315b",
   "metadata": {
    "execution": {
     "iopub.execute_input": "2022-07-09T14:10:32.629497Z",
     "iopub.status.busy": "2022-07-09T14:10:32.628544Z",
     "iopub.status.idle": "2022-07-09T14:10:32.633303Z",
     "shell.execute_reply": "2022-07-09T14:10:32.632410Z"
    },
    "papermill": {
     "duration": 0.014807,
     "end_time": "2022-07-09T14:10:32.635573",
     "exception": false,
     "start_time": "2022-07-09T14:10:32.620766",
     "status": "completed"
    },
    "tags": []
   },
   "outputs": [],
   "source": [
    "# Lines below will give you a hint or solution code\n",
    "#step_1.c.hint()\n",
    "#step_1.c.solution()"
   ]
  },
  {
   "cell_type": "markdown",
   "id": "78869864",
   "metadata": {
    "papermill": {
     "duration": 0.006511,
     "end_time": "2022-07-09T14:10:32.648839",
     "exception": false,
     "start_time": "2022-07-09T14:10:32.642328",
     "status": "completed"
    },
    "tags": []
   },
   "source": [
    "# Step 2: Improve the model\n",
    "\n",
    "Now that you've trained a default model as baseline, it's time to tinker with the parameters, to see if you can get better performance!\n",
    "- Begin by setting `my_model_2` to an XGBoost model, using the [XGBRegressor](https://xgboost.readthedocs.io/en/latest/python/python_api.html#xgboost.XGBRegressor) class.  Use what you learned in the previous tutorial to figure out how to change the default parameters (like `n_estimators` and `learning_rate`) to get better results.\n",
    "- Then, fit the model to the training data in `X_train` and `y_train`.\n",
    "- Set `predictions_2` to the model's predictions for the validation data.  Recall that the validation features are stored in `X_valid`.\n",
    "- Finally, use the `mean_absolute_error()` function to calculate the mean absolute error (MAE) corresponding to the predictions on the validation set.  Recall that the labels for the validation data are stored in `y_valid`.\n",
    "\n",
    "In order for this step to be marked correct, your model in `my_model_2` must attain lower MAE than the model in `my_model_1`. "
   ]
  },
  {
   "cell_type": "code",
   "execution_count": 9,
   "id": "f06c15bf",
   "metadata": {
    "execution": {
     "iopub.execute_input": "2022-07-09T14:10:32.664202Z",
     "iopub.status.busy": "2022-07-09T14:10:32.663161Z",
     "iopub.status.idle": "2022-07-09T14:10:41.448811Z",
     "shell.execute_reply": "2022-07-09T14:10:41.447615Z"
    },
    "papermill": {
     "duration": 8.796023,
     "end_time": "2022-07-09T14:10:41.451417",
     "exception": false,
     "start_time": "2022-07-09T14:10:32.655394",
     "status": "completed"
    },
    "tags": []
   },
   "outputs": [
    {
     "name": "stdout",
     "output_type": "stream",
     "text": [
      "Mean Absolute Error: 16688.691513270547\n"
     ]
    },
    {
     "data": {
      "application/javascript": [
       "parent.postMessage({\"jupyterEvent\": \"custom.exercise_interaction\", \"data\": {\"outcomeType\": 1, \"valueTowardsCompletion\": 0.5, \"interactionType\": 1, \"questionType\": 2, \"questionId\": \"2_Model2\", \"learnToolsVersion\": \"0.3.4\", \"failureMessage\": \"\", \"exceptionClass\": \"\", \"trace\": \"\"}}, \"*\")"
      ],
      "text/plain": [
       "<IPython.core.display.Javascript object>"
      ]
     },
     "metadata": {},
     "output_type": "display_data"
    },
    {
     "data": {
      "text/markdown": [
       "<span style=\"color:#33cc33\">Correct</span>"
      ],
      "text/plain": [
       "Correct"
      ]
     },
     "metadata": {},
     "output_type": "display_data"
    }
   ],
   "source": [
    "# Define the model\n",
    "my_model_2 = XGBRegressor(n_estimators=1000, learning_rate=0.05) # Your code here\n",
    "\n",
    "# Fit the model\n",
    "my_model_2.fit(X_train, y_train) # Your code here\n",
    "\n",
    "# Get predictions\n",
    "predictions_2 = my_model_2.predict(X_valid) # Your code here\n",
    "\n",
    "# Calculate MAE\n",
    "mae_2 = mean_absolute_error(predictions_2, y_valid)\n",
    "\n",
    "# Uncomment to print MAE\n",
    "print(\"Mean Absolute Error:\" , mae_2)\n",
    "\n",
    "# Check your answer\n",
    "step_2.check()"
   ]
  },
  {
   "cell_type": "code",
   "execution_count": 10,
   "id": "05501c45",
   "metadata": {
    "execution": {
     "iopub.execute_input": "2022-07-09T14:10:41.470300Z",
     "iopub.status.busy": "2022-07-09T14:10:41.469846Z",
     "iopub.status.idle": "2022-07-09T14:10:41.474546Z",
     "shell.execute_reply": "2022-07-09T14:10:41.473265Z"
    },
    "papermill": {
     "duration": 0.016961,
     "end_time": "2022-07-09T14:10:41.476910",
     "exception": false,
     "start_time": "2022-07-09T14:10:41.459949",
     "status": "completed"
    },
    "tags": []
   },
   "outputs": [],
   "source": [
    "# Lines below will give you a hint or solution code\n",
    "#step_2.hint()\n",
    "#step_2.solution()"
   ]
  },
  {
   "cell_type": "markdown",
   "id": "308afa0e",
   "metadata": {
    "papermill": {
     "duration": 0.006922,
     "end_time": "2022-07-09T14:10:41.491078",
     "exception": false,
     "start_time": "2022-07-09T14:10:41.484156",
     "status": "completed"
    },
    "tags": []
   },
   "source": [
    "# Step 3: Break the model\n",
    "\n",
    "In this step, you will create a model that performs worse than the original model in Step 1.  This will help you to develop your intuition for how to set parameters.  You might even find that you accidentally get better performance, which is ultimately a nice problem to have and a valuable learning experience!\n",
    "- Begin by setting `my_model_3` to an XGBoost model, using the [XGBRegressor](https://xgboost.readthedocs.io/en/latest/python/python_api.html#xgboost.XGBRegressor) class.  Use what you learned in the previous tutorial to figure out how to change the default parameters (like `n_estimators` and `learning_rate`) to design a model to get high MAE.\n",
    "- Then, fit the model to the training data in `X_train` and `y_train`.\n",
    "- Set `predictions_3` to the model's predictions for the validation data.  Recall that the validation features are stored in `X_valid`.\n",
    "- Finally, use the `mean_absolute_error()` function to calculate the mean absolute error (MAE) corresponding to the predictions on the validation set.  Recall that the labels for the validation data are stored in `y_valid`.\n",
    "\n",
    "In order for this step to be marked correct, your model in `my_model_3` must attain higher MAE than the model in `my_model_1`. "
   ]
  },
  {
   "cell_type": "code",
   "execution_count": 11,
   "id": "75d7797d",
   "metadata": {
    "execution": {
     "iopub.execute_input": "2022-07-09T14:10:41.507237Z",
     "iopub.status.busy": "2022-07-09T14:10:41.506879Z",
     "iopub.status.idle": "2022-07-09T14:10:41.577042Z",
     "shell.execute_reply": "2022-07-09T14:10:41.576148Z"
    },
    "papermill": {
     "duration": 0.083293,
     "end_time": "2022-07-09T14:10:41.581641",
     "exception": false,
     "start_time": "2022-07-09T14:10:41.498348",
     "status": "completed"
    },
    "tags": []
   },
   "outputs": [
    {
     "name": "stdout",
     "output_type": "stream",
     "text": [
      "Mean Absolute Error: 127895.0828807256\n"
     ]
    },
    {
     "data": {
      "application/javascript": [
       "parent.postMessage({\"jupyterEvent\": \"custom.exercise_interaction\", \"data\": {\"outcomeType\": 1, \"valueTowardsCompletion\": 0.5, \"interactionType\": 1, \"questionType\": 2, \"questionId\": \"3_Model3\", \"learnToolsVersion\": \"0.3.4\", \"failureMessage\": \"\", \"exceptionClass\": \"\", \"trace\": \"\"}}, \"*\")"
      ],
      "text/plain": [
       "<IPython.core.display.Javascript object>"
      ]
     },
     "metadata": {},
     "output_type": "display_data"
    },
    {
     "data": {
      "text/markdown": [
       "<span style=\"color:#33cc33\">Correct</span>"
      ],
      "text/plain": [
       "Correct"
      ]
     },
     "metadata": {},
     "output_type": "display_data"
    }
   ],
   "source": [
    "# Define the model\n",
    "my_model_3 = XGBRegressor(n_estimators=1)\n",
    "# Fit the model\n",
    "my_model_3.fit(X_train, y_train) # Your code here\n",
    "\n",
    "# Get predictions\n",
    "predictions_3 =my_model_3.predict(X_valid)\n",
    "\n",
    "# Calculate MAE\n",
    "mae_3 = mean_absolute_error(predictions_3, y_valid)\n",
    "# Uncomment to print MAE\n",
    "print(\"Mean Absolute Error:\" , mae_3)\n",
    "\n",
    "# Check your answer\n",
    "step_3.check()"
   ]
  },
  {
   "cell_type": "code",
   "execution_count": 12,
   "id": "77ab78d3",
   "metadata": {
    "execution": {
     "iopub.execute_input": "2022-07-09T14:10:41.601352Z",
     "iopub.status.busy": "2022-07-09T14:10:41.600900Z",
     "iopub.status.idle": "2022-07-09T14:10:41.605627Z",
     "shell.execute_reply": "2022-07-09T14:10:41.604503Z"
    },
    "papermill": {
     "duration": 0.017419,
     "end_time": "2022-07-09T14:10:41.608493",
     "exception": false,
     "start_time": "2022-07-09T14:10:41.591074",
     "status": "completed"
    },
    "tags": []
   },
   "outputs": [],
   "source": [
    "# Lines below will give you a hint or solution code\n",
    "#step_3.hint()\n",
    "#step_3.solution()"
   ]
  },
  {
   "cell_type": "markdown",
   "id": "04e89e49",
   "metadata": {
    "papermill": {
     "duration": 0.007222,
     "end_time": "2022-07-09T14:10:41.623745",
     "exception": false,
     "start_time": "2022-07-09T14:10:41.616523",
     "status": "completed"
    },
    "tags": []
   },
   "source": [
    "# Keep going\n",
    "\n",
    "Continue to learn about **[data leakage](https://www.kaggle.com/alexisbcook/data-leakage)**.  This is an important issue for a data scientist to understand, and it has the potential to ruin your models in subtle and dangerous ways!"
   ]
  },
  {
   "cell_type": "markdown",
   "id": "07cbdf76",
   "metadata": {
    "papermill": {
     "duration": 0.007397,
     "end_time": "2022-07-09T14:10:41.638711",
     "exception": false,
     "start_time": "2022-07-09T14:10:41.631314",
     "status": "completed"
    },
    "tags": []
   },
   "source": [
    "---\n",
    "\n",
    "\n",
    "\n",
    "\n",
    "*Have questions or comments? Visit the [course discussion forum](https://www.kaggle.com/learn/intermediate-machine-learning/discussion) to chat with other learners.*"
   ]
  }
 ],
 "metadata": {
  "kernelspec": {
   "display_name": "Python 3",
   "language": "python",
   "name": "python3"
  },
  "language_info": {
   "codemirror_mode": {
    "name": "ipython",
    "version": 3
   },
   "file_extension": ".py",
   "mimetype": "text/x-python",
   "name": "python",
   "nbconvert_exporter": "python",
   "pygments_lexer": "ipython3",
   "version": "3.7.12"
  },
  "papermill": {
   "default_parameters": {},
   "duration": 22.711433,
   "end_time": "2022-07-09T14:10:42.369800",
   "environment_variables": {},
   "exception": null,
   "input_path": "__notebook__.ipynb",
   "output_path": "__notebook__.ipynb",
   "parameters": {},
   "start_time": "2022-07-09T14:10:19.658367",
   "version": "2.3.4"
  }
 },
 "nbformat": 4,
 "nbformat_minor": 5
}
